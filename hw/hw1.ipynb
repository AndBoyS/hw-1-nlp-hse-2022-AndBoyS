{
 "cells": [
  {
   "cell_type": "markdown",
   "metadata": {},
   "source": [
    "# Домашнее задание\n",
    "## Harry Potter and the Action Prediction Challenge from Natural Language\n",
    "\n",
    "*deadline*: 14 ноября 2022, 23:59\n",
    "\n",
    "В этом домашнем задании вы будете работать с корпусом Harry Potter and the Action Prediction Challenge. Корпус собран из фанфиков о Гарри Поттере и состоит из двух частей: 1) сырые тексты, 2) фрагменты текстов, описывающих ситуацию, в которой произнесено заклинание.\n",
    "\n",
    "Корпус описан в статье: https://arxiv.org/pdf/1905.11037.pdf\n",
    "\n",
    "David Vilares and Carlos Gómez-Rodríguez. Harry Potter and the Action Prediction Challenge from Natural Language. 2019 Annual Conference of the North American Chapter of the Association for Computational Linguistics. To appear.\n",
    "\n",
    "Код для сбора корпуса находится в репозитории: https://github.com/aghie/hpac . Корпус можно скачать по инструкции из этого репозитория, но для экономии времени авторы задания уже скачали и подготовили данные к работе. \n",
    "\n",
    "Ссылки на собранный корпус: \n",
    "* Сырые тексты:  https://www.dropbox.com/s/23xet9kvbqna1qs/hpac_raw.zip?dl=0\n",
    "* Токенизированные тексты в нижнем регистре: https://www.dropbox.com/s/gwfgmomdbetvdye/hpac_lower_tokenized.zip?dl=0\n",
    "* train-test-dev: https://www.dropbox.com/s/3vdz0mouvex8abd/hpac_splits.zip?dl=0\n",
    "\n",
    "Части 1, 2 задания должны быть выполнены на полных текстах (сырых или предобработанных -- на ваше усмотрение), Часть 3 – на разбиение на тестовое, отладочное и обучающее множества. Тестовое множество должно быть использовано исключительно для тестирования моделей, обучающее и отладочное – для выбора модели и параметров. \n",
    "\n",
    "В статье и репозитории вы найдете идеи, которые помогут вам выполнить домашнее задание. Их стоит воспринимать как руководство к действию, и не стоит их копировать и переиспользовать. Обученные модели использовать не нужно, код для их обучения можно использовать как подсказку. \n",
    "\n",
    "## ПРАВИЛА\n",
    "1. Домашнее задание выполняется в группе до 3-х человек.\n",
    "2. Домашнее задание оформляется в виде отчета либо в .pdf файле, либо ipython-тетрадке. \n",
    "3. Отчет должен содержать: нумерацию заданий и пунктов, которые вы выполнили, код решения, и понятное пошаговое описание того, что вы сделали. Отчет должен быть написан в академическом стиле, без излишнего использования сленга и с соблюдением норм русского языка.\n",
    "4. Не стоит копировать фрагменты лекций, статей и Википедии в ваш отчет.\n",
    "5. Отчеты, состоящие исключительно из кода, не будут проверены и будут автоматически оценены нулевой оценкой.\n",
    "6. Плагиат и любое недобросоветсное цитирование приводит к обнуление оценки. \n",
    "\n",
    "\n",
    "## Часть 1. [2 балла] Эксплоративный анализ \n",
    "1. Найдите топ-1000 слов по частоте без учета стоп-слов.\n",
    "2. Найдите топ-10 по частоте: имен, пар имя + фамилия, пар вида ''профессор'' + имя / фамилия. \n",
    "\n",
    "[бонус] Постройте тематическую модель по корпусу HPAC.\n",
    "\n",
    "[бонус] Найдите еще что-то интересное в корпусе (что-то специфичное для фанфиков или фентези-тематики)\n",
    "\n",
    "## Часть 2. [2 балла] Модели представления слов \n",
    "Обучите модель представления слов (word2vec, GloVe, fastText или любую другую) на материале корпуса HPAC.\n",
    "1. Продемонстрируйте, как работает поиск синонимов, ассоциаций, лишних слов в обученной модели. \n",
    "2. Визуализируйте топ-1000 слов по частоте без учета стоп-слов (п. 1.1) с помощью TSNE или UMAP (https://umap-learn.readthedocs.io).\n",
    "\n",
    "## Часть 3. [5 баллов] Классификация текстов\n",
    "Задача классификации формулируется так: данный фрагмент фанфика описывают какую-то ситуацию, которая предшествует произнесению заклинания. Требуется по тексту предсказать, какое именно заклинание будет произнесено. Таким образом, заклинание - это фактически метка класса. Основная мера качества – macro $F_1$.\n",
    "Обучите несколько классификаторов и сравните их между собой. Оцените качество классификаторов на частых и редких классах. Какие классы чаще всего оказываются перепутаны? Связаны ли ошибки со смыслом заклинаний?\n",
    "\n",
    "Используйте фрагменты из множества train для обучения, из множества dev для отладки, из множества test – для тестирования и получения итоговых результатов. \n",
    "\n",
    "1. [1 балл] Используйте fastText в качестве baseline-классификатора.\n",
    "2. [2 балла] Используйте сверточные  или реккурентные сети в качестве более продвинутого классификатора. Поэкспериментируйте с количеством и размерностью фильтров, используйте разные размеры окон, попробуйте использовать $k$-max pooling. \n",
    "3. [2 балла] Попробуйте расширить обучающее множество за счет аугментации данных. Если вам понадобится словарь синонимов, можно использовать WordNet (ниже вы найдете примеры).\n",
    "\n",
    "[бонус] Используйте результат max pooling'а как эмбеддинг входного текста. Визуализируйте эмбеддинги 500-1000 предложений из обучающего множества и изучите свойства получившегося пространства.\n",
    "\n",
    "[бонус] Используйте ваш любимый классификатор и любые (честные) способы повышения качества классификации и получите macro $F_1$ больше 0.5.\n",
    "\n",
    "## Часть 4. [1 балл] Итоги\n",
    "Напишите краткое резюме проделанной работы. Читали ли вы сами Гарри Поттера или фанфики о нем и помогло ли вам знание предметной области в выполнении домашнего задания?"
   ]
  },
  {
   "cell_type": "code",
   "execution_count": 4,
   "outputs": [
    {
     "name": "stdout",
     "output_type": "stream",
     "text": [
      "mkdir: data: File exists\r\n"
     ]
    }
   ],
   "source": [
    "!mkdir data\n",
    "%cd data"
   ],
   "metadata": {
    "collapsed": false
   }
  },
  {
   "cell_type": "code",
   "execution_count": 7,
   "metadata": {},
   "outputs": [
    {
     "name": "stdout",
     "output_type": "stream",
     "text": [
      "[Errno 2] No such file or directory: 'data'\n",
      "/Users/user/Main/Study/NLP/hw-1-nlp-hse-2022-AndBoyS/hw/data\n",
      "--2022-11-05 17:28:26--  https://www.dropbox.com/s/23xet9kvbqna1qs/hpac_raw.zip\r\n",
      "Resolving www.dropbox.com (www.dropbox.com)... 162.125.71.18\r\n",
      "Connecting to www.dropbox.com (www.dropbox.com)|162.125.71.18|:443... connected.\r\n",
      "HTTP request sent, awaiting response... 302 Found\r\n",
      "Location: /s/raw/23xet9kvbqna1qs/hpac_raw.zip [following]\r\n",
      "--2022-11-05 17:28:26--  https://www.dropbox.com/s/raw/23xet9kvbqna1qs/hpac_raw.zip\r\n",
      "Reusing existing connection to www.dropbox.com:443.\r\n",
      "HTTP request sent, awaiting response... 302 Found\r\n",
      "Location: https://uc3e3bff563d08a2a39af5bd946f.dl.dropboxusercontent.com/cd/0/inline/BwKhyvzAfSEba1cWVR_MucVdEP5RNj7XXm9vjQGaQzMNTcJqPIj4xDm66yJz-hA-0I9io-YxVaOigoe7Odxo8H6aJuHmzSvk4xoDUZ-C_wUcHBNZ-Hg3P-26oWBoUJjnw-MnDvWaB5yie8UACP5l1FBGoqR2lsua4hWwhaZ8e_zQhQ/file# [following]\r\n",
      "--2022-11-05 17:28:27--  https://uc3e3bff563d08a2a39af5bd946f.dl.dropboxusercontent.com/cd/0/inline/BwKhyvzAfSEba1cWVR_MucVdEP5RNj7XXm9vjQGaQzMNTcJqPIj4xDm66yJz-hA-0I9io-YxVaOigoe7Odxo8H6aJuHmzSvk4xoDUZ-C_wUcHBNZ-Hg3P-26oWBoUJjnw-MnDvWaB5yie8UACP5l1FBGoqR2lsua4hWwhaZ8e_zQhQ/file\r\n",
      "Resolving uc3e3bff563d08a2a39af5bd946f.dl.dropboxusercontent.com (uc3e3bff563d08a2a39af5bd946f.dl.dropboxusercontent.com)... 162.125.71.15\r\n",
      "Connecting to uc3e3bff563d08a2a39af5bd946f.dl.dropboxusercontent.com (uc3e3bff563d08a2a39af5bd946f.dl.dropboxusercontent.com)|162.125.71.15|:443... connected.\r\n",
      "HTTP request sent, awaiting response... 302 Found\r\n",
      "Location: /cd/0/inline2/BwL4irXplgcxuM3h3JEYk8C5xqq7zgoe4M_cUegG-82JVVdcTACRZZCQZBcnlCxoiQqXRCB7ReBhvk3TElKB0eeY_efze7sjxXXKNVFVvhX5Osxt2ap5MTSL0CD_r7IoC-f0m2iy-XhjVpydX0Wvf3Yn9UwAkiGrB2jcNMK8Xj20p4tE0fJiNmjtkNk7sIBiMWKv3qdVs3FD_0Igudr8tmVsvKlSE5GD43sT_6cmIRpSPJ2eEqztLfNAY0RVFUR0L8HAel8tY_2u39WaP-2WT1-617JDSQEAJ1XBDvH6V8KmqyenV6z7gDQ-l7JEf1_H5M6OZBBPJU5pEHdRUIxswoMvLm-VhGgf_-5D5ubiLMGrf9eABK314dNv6Idh942NAIc0f5WWcHB2O6kkv3PueWsaV_q-aUWLpnyd9VeI-MUuVA/file [following]\r\n",
      "--2022-11-05 17:28:27--  https://uc3e3bff563d08a2a39af5bd946f.dl.dropboxusercontent.com/cd/0/inline2/BwL4irXplgcxuM3h3JEYk8C5xqq7zgoe4M_cUegG-82JVVdcTACRZZCQZBcnlCxoiQqXRCB7ReBhvk3TElKB0eeY_efze7sjxXXKNVFVvhX5Osxt2ap5MTSL0CD_r7IoC-f0m2iy-XhjVpydX0Wvf3Yn9UwAkiGrB2jcNMK8Xj20p4tE0fJiNmjtkNk7sIBiMWKv3qdVs3FD_0Igudr8tmVsvKlSE5GD43sT_6cmIRpSPJ2eEqztLfNAY0RVFUR0L8HAel8tY_2u39WaP-2WT1-617JDSQEAJ1XBDvH6V8KmqyenV6z7gDQ-l7JEf1_H5M6OZBBPJU5pEHdRUIxswoMvLm-VhGgf_-5D5ubiLMGrf9eABK314dNv6Idh942NAIc0f5WWcHB2O6kkv3PueWsaV_q-aUWLpnyd9VeI-MUuVA/file\r\n",
      "Reusing existing connection to uc3e3bff563d08a2a39af5bd946f.dl.dropboxusercontent.com:443.\r\n",
      "HTTP request sent, awaiting response... 200 OK\r\n",
      "Length: 1018234025 (971M) [application/zip]\r\n",
      "Saving to: ‘hpac_raw.zip’\r\n",
      "\r\n",
      "hpac_raw.zip        100%[===================>] 971.06M  8.70MB/s    in 1m 44s  \r\n",
      "\r\n",
      "2022-11-05 17:30:12 (9.31 MB/s) - ‘hpac_raw.zip’ saved [1018234025/1018234025]\r\n",
      "\r\n",
      "--2022-11-05 17:30:13--  https://www.dropbox.com/s/3vdz0mouvex8abd/hpac_splits.zip\r\n",
      "Resolving www.dropbox.com (www.dropbox.com)... 162.125.71.18\r\n",
      "Connecting to www.dropbox.com (www.dropbox.com)|162.125.71.18|:443... connected.\r\n",
      "HTTP request sent, awaiting response... 302 Found\r\n",
      "Location: /s/raw/3vdz0mouvex8abd/hpac_splits.zip [following]\r\n",
      "--2022-11-05 17:30:13--  https://www.dropbox.com/s/raw/3vdz0mouvex8abd/hpac_splits.zip\r\n",
      "Reusing existing connection to www.dropbox.com:443.\r\n",
      "HTTP request sent, awaiting response... 302 Found\r\n",
      "Location: https://uc0087dc5a8beeca2123909cf48d.dl.dropboxusercontent.com/cd/0/inline/BwIpmytPyoP_2fq2fvcFJgh8rAEouhVdus-CP6DCZKY_DkvVNZLemHyWg3xuiJZ46FbWp7guzRwI-QNatPOobgpbSljf_WD5vdTLXcLIQMutUKyxH7O8qJNldimbPhICSzLfOARPN5vBOjEG7aLHHc7zyF7CgEw-S2vCD40S9Axfbw/file# [following]\r\n",
      "--2022-11-05 17:30:13--  https://uc0087dc5a8beeca2123909cf48d.dl.dropboxusercontent.com/cd/0/inline/BwIpmytPyoP_2fq2fvcFJgh8rAEouhVdus-CP6DCZKY_DkvVNZLemHyWg3xuiJZ46FbWp7guzRwI-QNatPOobgpbSljf_WD5vdTLXcLIQMutUKyxH7O8qJNldimbPhICSzLfOARPN5vBOjEG7aLHHc7zyF7CgEw-S2vCD40S9Axfbw/file\r\n",
      "Resolving uc0087dc5a8beeca2123909cf48d.dl.dropboxusercontent.com (uc0087dc5a8beeca2123909cf48d.dl.dropboxusercontent.com)... 162.125.71.15\r\n",
      "Connecting to uc0087dc5a8beeca2123909cf48d.dl.dropboxusercontent.com (uc0087dc5a8beeca2123909cf48d.dl.dropboxusercontent.com)|162.125.71.15|:443... connected.\r\n",
      "HTTP request sent, awaiting response... 302 Found\r\n",
      "Location: /cd/0/inline2/BwJgmAMFeG6fjLWdHp5JvuUDD5ezezQtykQbcOI7aqMvIs5Pya8eVff3mlAOxn7c1sIMD3vGzjEhM7SxEWk6vgP2NUcx4va14enHTER213UHufjTz0pG6AQzWarshyuH6IoY9b7v7FgwrVr43ssWJ0MyNZgmzoVim8GY-pR3gaHU9yykWJVH_hNLRAH23OhTR1gyNlkyUn8g-CR7G33i0hVPb_myS_eqE9wJyIDHGgQ16RKUHhyvVKYXLw4IBi4CJ416eNKzcPthX3f_VtNsVRBQsWHS3tETU8L1oXMnF4P0O5g6X1fYU_YHK3CJaDp0nxqCaKw-olRpdP7O7yHHIsfFa1w00T-mBT4L7gY1mPxzw596lTwfchRkoYZGqIvBmQcs7pe6qz-yMyD_L-PU-OEmG-TBYWALJW5YJYKO8dE-zQ/file [following]\r\n",
      "--2022-11-05 17:30:14--  https://uc0087dc5a8beeca2123909cf48d.dl.dropboxusercontent.com/cd/0/inline2/BwJgmAMFeG6fjLWdHp5JvuUDD5ezezQtykQbcOI7aqMvIs5Pya8eVff3mlAOxn7c1sIMD3vGzjEhM7SxEWk6vgP2NUcx4va14enHTER213UHufjTz0pG6AQzWarshyuH6IoY9b7v7FgwrVr43ssWJ0MyNZgmzoVim8GY-pR3gaHU9yykWJVH_hNLRAH23OhTR1gyNlkyUn8g-CR7G33i0hVPb_myS_eqE9wJyIDHGgQ16RKUHhyvVKYXLw4IBi4CJ416eNKzcPthX3f_VtNsVRBQsWHS3tETU8L1oXMnF4P0O5g6X1fYU_YHK3CJaDp0nxqCaKw-olRpdP7O7yHHIsfFa1w00T-mBT4L7gY1mPxzw596lTwfchRkoYZGqIvBmQcs7pe6qz-yMyD_L-PU-OEmG-TBYWALJW5YJYKO8dE-zQ/file\r\n",
      "Reusing existing connection to uc0087dc5a8beeca2123909cf48d.dl.dropboxusercontent.com:443.\r\n",
      "HTTP request sent, awaiting response... 200 OK\r\n",
      "Length: 18284862 (17M) [application/zip]\r\n",
      "Saving to: ‘hpac_splits.zip’\r\n",
      "\r\n",
      "hpac_splits.zip     100%[===================>]  17.44M  9.47MB/s    in 1.8s    \r\n",
      "\r\n",
      "2022-11-05 17:30:16 (9.47 MB/s) - ‘hpac_splits.zip’ saved [18284862/18284862]\r\n",
      "\r\n"
     ]
    }
   ],
   "source": [
    "!wget -nc https://www.dropbox.com/s/23xet9kvbqna1qs/hpac_raw.zip\n",
    "!wget -nc https://www.dropbox.com/s/gwfgmomdbetvdye/hpac_lower_tokenized.zip\n",
    "!wget -nc https://www.dropbox.com/s/3vdz0mouvex8abd/hpac_splits.zip"
   ]
  },
  {
   "cell_type": "markdown",
   "source": [
    "Импортируем базовые библиотеки"
   ],
   "metadata": {
    "collapsed": false
   }
  },
  {
   "cell_type": "code",
   "execution_count": 32,
   "outputs": [],
   "source": [
    "from pathlib import Path\n",
    "import numpy as np\n",
    "import pandas as pd\n",
    "import shutil"
   ],
   "metadata": {
    "collapsed": false
   }
  },
  {
   "cell_type": "markdown",
   "source": [
    "### Данные\n",
    "Сырые тексты"
   ],
   "metadata": {
    "collapsed": false
   }
  },
  {
   "cell_type": "code",
   "execution_count": 33,
   "metadata": {
    "jupyter": {
     "outputs_hidden": true
    }
   },
   "outputs": [
    {
     "name": "stdout",
     "output_type": "stream",
     "text": [
      "Archive:  hpac_raw.zip\r\n",
      "Archive:  hpac_lower_tokenized.zip\r\n",
      "Archive:  hpac_splits.zip\r\n",
      "   creating: __MACOSX/\r\n",
      "   creating: __MACOSX/hpac_corpus/\r\n",
      "  inflating: __MACOSX/hpac_corpus/._hpac_training_128.tsv  \r\n",
      "  inflating: __MACOSX/hpac_corpus/._hpac_dev_128.tsv  \r\n",
      "  inflating: __MACOSX/hpac_corpus/._hpac_test_128.tsv  \r\n",
      "  inflating: __MACOSX/._hpac_corpus  \r\n"
     ]
    }
   ],
   "source": [
    "!unzip -n hpac_raw\n",
    "!unzip -n hpac_lower_tokenized\n",
    "!unzip -n hpac_splits\n",
    "shutil.rmtree('__MACOSX')\n",
    "\n",
    "folder_mapping = {\n",
    "    'fanfiction_texts': 'hpac_raw',\n",
    "    'hpac_source': 'hpac_lower_tokenized',\n",
    "    'hpac_corpus': 'hpac_splits',\n",
    "}\n",
    "\n",
    "for name, new_name in folder_mapping.items():\n",
    "    Path(name).rename(new_name)"
   ]
  },
  {
   "cell_type": "code",
   "execution_count": 22,
   "metadata": {},
   "outputs": [
    {
     "name": "stdout",
     "output_type": "stream",
     "text": [
      "   36225\r\n"
     ]
    }
   ],
   "source": [
    "!ls hpac_source | wc -l"
   ]
  },
  {
   "cell_type": "markdown",
   "metadata": {},
   "source": [
    "train, test, dev файлы"
   ]
  },
  {
   "cell_type": "code",
   "execution_count": 26,
   "metadata": {},
   "outputs": [],
   "source": [
    "df = pd.read_csv('hpac_corpus/hpac_training_128.tsv',\n",
    "                 names=['target', 'text'],\n",
    "                 index_col=0,\n",
    "                 sep='\\t', header=None)"
   ]
  },
  {
   "cell_type": "code",
   "execution_count": 27,
   "metadata": {},
   "outputs": [
    {
     "data": {
      "text/plain": "                       target  \\\n7642954.0.676      RIDDIKULUS   \n10443333.0.5753    RIDDIKULUS   \n4703706.0.8690        STUPEFY   \n4593427.0.1815          ACCIO   \n4278446.0.2692   EXPELLIARMUS   \n\n                                                              text  \n7642954.0.676    were staring at her . she was up next to face ...  \n10443333.0.5753  that whole time . her first reaction , for whi...  \n4703706.0.8690   we watched his inglorious withdrawal together ...  \n4593427.0.1815   my wand , `` incendio . '' this wretched chill...  \n4278446.0.2692   already compared ours , they 're the same ever...  ",
      "text/html": "<div>\n<style scoped>\n    .dataframe tbody tr th:only-of-type {\n        vertical-align: middle;\n    }\n\n    .dataframe tbody tr th {\n        vertical-align: top;\n    }\n\n    .dataframe thead th {\n        text-align: right;\n    }\n</style>\n<table border=\"1\" class=\"dataframe\">\n  <thead>\n    <tr style=\"text-align: right;\">\n      <th></th>\n      <th>target</th>\n      <th>text</th>\n    </tr>\n  </thead>\n  <tbody>\n    <tr>\n      <th>7642954.0.676</th>\n      <td>RIDDIKULUS</td>\n      <td>were staring at her . she was up next to face ...</td>\n    </tr>\n    <tr>\n      <th>10443333.0.5753</th>\n      <td>RIDDIKULUS</td>\n      <td>that whole time . her first reaction , for whi...</td>\n    </tr>\n    <tr>\n      <th>4703706.0.8690</th>\n      <td>STUPEFY</td>\n      <td>we watched his inglorious withdrawal together ...</td>\n    </tr>\n    <tr>\n      <th>4593427.0.1815</th>\n      <td>ACCIO</td>\n      <td>my wand , `` incendio . '' this wretched chill...</td>\n    </tr>\n    <tr>\n      <th>4278446.0.2692</th>\n      <td>EXPELLIARMUS</td>\n      <td>already compared ours , they 're the same ever...</td>\n    </tr>\n  </tbody>\n</table>\n</div>"
     },
     "execution_count": 27,
     "metadata": {},
     "output_type": "execute_result"
    }
   ],
   "source": [
    "df.head()"
   ]
  },
  {
   "cell_type": "code",
   "execution_count": 30,
   "metadata": {},
   "outputs": [
    {
     "data": {
      "text/plain": "('RIDDIKULUS',\n \"were staring at her . she was up next to face the boggart in defense against the dark arts class . she was not scared , but what she was worried about was what had happened with lysander . she looked up at the boggart in front of her which had previously been a humongous spider . its eyes locked on her . before she could think of what frightened her , the spider transformed into lysander . he was dying . there were giggles coming from the male and female hufflepuff students . there was a smirk on lorcan 's face . `` lily help me '' i ca n't fail this class because of a secret love . lily lifted her wand and said , ``\")"
     },
     "execution_count": 30,
     "metadata": {},
     "output_type": "execute_result"
    }
   ],
   "source": [
    "df.iloc[0][0], df.iloc[0][1]"
   ]
  },
  {
   "cell_type": "markdown",
   "metadata": {},
   "source": [
    "### Как использовать WordNet из nltk?"
   ]
  },
  {
   "cell_type": "code",
   "execution_count": 15,
   "metadata": {},
   "outputs": [
    {
     "name": "stderr",
     "output_type": "stream",
     "text": [
      "[nltk_data] Downloading package wordnet to /Users/user/nltk_data...\n"
     ]
    },
    {
     "data": {
      "text/plain": "True"
     },
     "execution_count": 15,
     "metadata": {},
     "output_type": "execute_result"
    }
   ],
   "source": [
    "# скачиваем WordNet\n",
    "import nltk\n",
    "nltk.download('wordnet')"
   ]
  },
  {
   "cell_type": "code",
   "execution_count": 16,
   "metadata": {},
   "outputs": [
    {
     "data": {
      "text/plain": "[Synset('magic.n.01'), Synset('magic_trick.n.01'), Synset('charming.s.02')]"
     },
     "execution_count": 16,
     "metadata": {},
     "output_type": "execute_result"
    }
   ],
   "source": [
    "# слово -> множество синсетов (синонимов разных смыслов исходного слова)\n",
    "from nltk.corpus import wordnet as wn\n",
    "wn.synsets('magic')"
   ]
  },
  {
   "cell_type": "code",
   "execution_count": 17,
   "metadata": {},
   "outputs": [
    {
     "data": {
      "text/plain": "Lemma('magic_trick.n.01.magic_trick')"
     },
     "execution_count": 17,
     "metadata": {},
     "output_type": "execute_result"
    }
   ],
   "source": [
    "# посмотрим, что внутри одного синсета\n",
    "wn.synsets('magic')[1].lemmas()[0]"
   ]
  },
  {
   "cell_type": "code",
   "execution_count": 18,
   "metadata": {},
   "outputs": [
    {
     "data": {
      "text/plain": "'deception'"
     },
     "execution_count": 18,
     "metadata": {},
     "output_type": "execute_result"
    }
   ],
   "source": [
    "# возьмем лемму одного из слов из синсета\n",
    "wn.synsets('magic')[1].lemmas()[-1].name()"
   ]
  },
  {
   "cell_type": "markdown",
   "source": [
    "## Часть 1. [2 балла] Эксплоративный анализ\n",
    "1. Найдите топ-1000 слов по частоте без учета стоп-слов."
   ],
   "metadata": {
    "collapsed": false
   },
   "outputs": []
  },
  {
   "cell_type": "code",
   "execution_count": 31,
   "outputs": [
    {
     "data": {
      "text/plain": "Index(['target', 'text'], dtype='object')"
     },
     "execution_count": 31,
     "metadata": {},
     "output_type": "execute_result"
    }
   ],
   "source": [
    "\n",
    "df.text"
   ],
   "metadata": {
    "collapsed": false
   }
  },
  {
   "cell_type": "markdown",
   "source": [
    "\n",
    "2. Найдите топ-10 по частоте: имен, пар имя + фамилия, пар вида ''профессор'' + имя / фамилия."
   ],
   "metadata": {
    "collapsed": false
   },
   "outputs": []
  },
  {
   "cell_type": "code",
   "execution_count": null,
   "outputs": [],
   "source": [],
   "metadata": {
    "collapsed": false
   }
  },
  {
   "cell_type": "markdown",
   "source": [
    "\n",
    "[бонус] Постройте тематическую модель по корпусу HPAC."
   ],
   "metadata": {
    "collapsed": false
   },
   "outputs": []
  },
  {
   "cell_type": "markdown",
   "source": [
    "\n",
    "[бонус] Найдите еще что-то интересное в корпусе (что-то специфичное для фанфиков или фентези-тематики)"
   ],
   "metadata": {
    "collapsed": false
   }
  },
  {
   "cell_type": "markdown",
   "source": [],
   "metadata": {
    "collapsed": false
   }
  },
  {
   "cell_type": "code",
   "execution_count": null,
   "metadata": {},
   "outputs": [],
   "source": []
  },
  {
   "cell_type": "markdown",
   "source": [
    "## Часть 2. [2 балла] Модели представления слов\n",
    "Обучите модель представления слов (word2vec, GloVe, fastText или любую другую) на материале корпуса HPAC."
   ],
   "metadata": {
    "collapsed": false
   },
   "outputs": []
  },
  {
   "cell_type": "markdown",
   "source": [
    "1. Продемонстрируйте, как работает поиск синонимов, ассоциаций, лишних слов в обученной модели."
   ],
   "metadata": {
    "collapsed": false
   },
   "outputs": []
  },
  {
   "cell_type": "markdown",
   "source": [
    "2. Визуализируйте топ-1000 слов по частоте без учета стоп-слов (п. 1.1) с помощью TSNE или UMAP (https://umap-learn.readthedocs.io)."
   ],
   "metadata": {
    "collapsed": false
   }
  },
  {
   "cell_type": "code",
   "execution_count": null,
   "outputs": [],
   "source": [],
   "metadata": {
    "collapsed": false
   }
  },
  {
   "cell_type": "markdown",
   "source": [
    "## Часть 3. [5 баллов] Классификация текстов\n",
    "Задача классификации формулируется так: данный фрагмент фанфика описывают какую-то ситуацию, которая предшествует произнесению заклинания. Требуется по тексту предсказать, какое именно заклинание будет произнесено. Таким образом, заклинание - это фактически метка класса. Основная мера качества – macro $F_1$.\n",
    "Обучите несколько классификаторов и сравните их между собой. Оцените качество классификаторов на частых и редких классах. Какие классы чаще всего оказываются перепутаны? Связаны ли ошибки со смыслом заклинаний?"
   ],
   "metadata": {
    "collapsed": false
   }
  },
  {
   "cell_type": "code",
   "execution_count": null,
   "outputs": [],
   "source": [],
   "metadata": {
    "collapsed": false
   }
  }
 ],
 "metadata": {
  "kernelspec": {
   "display_name": "Python 3",
   "language": "python",
   "name": "python3"
  },
  "language_info": {
   "codemirror_mode": {
    "name": "ipython",
    "version": 3
   },
   "file_extension": ".py",
   "mimetype": "text/x-python",
   "name": "python",
   "nbconvert_exporter": "python",
   "pygments_lexer": "ipython3",
   "version": "3.7.6"
  }
 },
 "nbformat": 4,
 "nbformat_minor": 4
}
